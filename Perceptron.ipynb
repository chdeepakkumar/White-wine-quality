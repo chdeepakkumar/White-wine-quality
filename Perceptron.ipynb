{
 "cells": [
  {
   "cell_type": "markdown",
   "metadata": {},
   "source": [
    "# Importing libraries"
   ]
  },
  {
   "cell_type": "code",
   "execution_count": 2,
   "metadata": {},
   "outputs": [],
   "source": [
    "import pandas as pd\n",
    "import numpy as np\n",
    "import matplotlib.pyplot as plt"
   ]
  },
  {
   "cell_type": "markdown",
   "metadata": {},
   "source": [
    "# Loading Data"
   ]
  },
  {
   "cell_type": "code",
   "execution_count": 3,
   "metadata": {},
   "outputs": [],
   "source": [
    "data = pd.read_csv('winequality-white.csv',delimiter = ';')\n",
    "X = data.drop(columns = ['quality'])\n",
    "Y = data.quality\n"
   ]
  },
  {
   "cell_type": "markdown",
   "metadata": {},
   "source": [
    "# Binarization of Y"
   ]
  },
  {
   "cell_type": "code",
   "execution_count": 4,
   "metadata": {},
   "outputs": [],
   "source": [
    "Y = Y.values\n",
    "for i in range(Y.shape[0]):\n",
    "    if Y[i]>7:\n",
    "        Y[i] = 1\n",
    "    else:\n",
    "        Y[i] = 0\n",
    "Y = pd.Series(Y)"
   ]
  },
  {
   "cell_type": "markdown",
   "metadata": {},
   "source": [
    "# Spliting Data into tarining and testing data"
   ]
  },
  {
   "cell_type": "code",
   "execution_count": 5,
   "metadata": {},
   "outputs": [],
   "source": [
    "from sklearn.model_selection import train_test_split\n",
    "from sklearn.metrics import accuracy_score"
   ]
  },
  {
   "cell_type": "code",
   "execution_count": 6,
   "metadata": {},
   "outputs": [],
   "source": [
    "x_train,x_test,y_train,y_test = train_test_split(X,Y,test_size = 0.3 , stratify = Y , random_state = 2)"
   ]
  },
  {
   "cell_type": "code",
   "execution_count": 7,
   "metadata": {},
   "outputs": [
    {
     "name": "stdout",
     "output_type": "stream",
     "text": [
      "(3428, 11)\n",
      "(1470, 11)\n",
      "(3428,)\n",
      "(1470,)\n"
     ]
    }
   ],
   "source": [
    "print(x_train.shape)\n",
    "print(x_test.shape)\n",
    "print(y_train.shape)\n",
    "print(y_test.shape)\n",
    "x_train = x_train.values\n",
    "x_test = x_test.values\n",
    "y_train = y_train.values\n",
    "y_test = y_test.values"
   ]
  },
  {
   "cell_type": "markdown",
   "metadata": {},
   "source": [
    "# Perceptron Model"
   ]
  },
  {
   "cell_type": "code",
   "execution_count": 37,
   "metadata": {},
   "outputs": [],
   "source": [
    "class Perceptron:\n",
    "    \n",
    "    def __init__(self):\n",
    "        self.W = None\n",
    "        self.b = None\n",
    "        \n",
    "        \n",
    "    def model(self,x):\n",
    "        return 1 if (np.dot(self.W,x) >= self.b) else 0\n",
    "        \n",
    "    def predict(self,X):\n",
    "        Y = []\n",
    "        \n",
    "        for x in X:\n",
    "            result = self.model(x)\n",
    "            Y.append(result)\n",
    "        return np.array(Y)\n",
    "    \n",
    "    def fit(self,X,Y,epoch = 1,lr =1):\n",
    "        \n",
    "        self.W = np.zeros(X.shape[1])\n",
    "        self.b = 0\n",
    "        accuracy = []\n",
    "        max_accuracy = 0\n",
    "        wt_matrix = []\n",
    "        \n",
    "        for i in range(epoch):\n",
    "            for x,y in zip(X,Y):\n",
    "                y_pred = self.model(x)\n",
    "                if y_pred == 0 and y == 1:\n",
    "                    self.W += lr * x\n",
    "                    self.b += lr * 1\n",
    "                elif y_pred == 1 and y == 0:\n",
    "                    self.W -= lr * x\n",
    "                    self.b -= lr * 1\n",
    "                    \n",
    "            wt_matrix.append(self.W)\n",
    "            accuracy.append(accuracy_score(self.predict(X),Y))\n",
    "            \n",
    "            if accuracy[i] > max_accuracy:\n",
    "                max_accuracy = accuracy[i]\n",
    "                chkptw = self.W\n",
    "                chkptb = self.b\n",
    "                \n",
    "        print(max_accuracy)\n",
    "        \n",
    "        self.W = chkptw\n",
    "        self.b = chkptb\n",
    "        plt.plot(accuracy)\n",
    "        plt.ylim(0,1)\n",
    "        plt.show()\n",
    "        \n",
    "        return np.array(wt_matrix)\n",
    "        \n"
   ]
  },
  {
   "cell_type": "code",
   "execution_count": 38,
   "metadata": {},
   "outputs": [],
   "source": [
    "perceptron = Perceptron()"
   ]
  },
  {
   "cell_type": "code",
   "execution_count": 39,
   "metadata": {},
   "outputs": [
    {
     "name": "stdout",
     "output_type": "stream",
     "text": [
      "0.9632438739789965\n"
     ]
    },
    {
     "data": {
      "image/png": "[encoded data removed]",
      "text/plain": [
       "<Figure size 432x288 with 1 Axes>"
      ]
     },
     "metadata": {
      "needs_background": "light"
     },
     "output_type": "display_data"
    }
   ],
   "source": [
    "wt_matrix = perceptron.fit(x_train,y_train,100,0.001)\n"
   ]
  },
  {
   "cell_type": "code",
   "execution_count": 40,
   "metadata": {
    "scrolled": true
   },
   "outputs": [
    {
     "name": "stdout",
     "output_type": "stream",
     "text": [
      "0.9537414965986395\n"
     ]
    }
   ],
   "source": [
    "y_pred_test = perceptron.predict(x_test)\n",
    "print(accuracy_score(y_pred_test,y_test))"
   ]
  }
 ],
 "metadata": {
  "kernelspec": {
   "display_name": "Python 3",
   "language": "python",
   "name": "python3"
  },
  "language_info": {
   "codemirror_mode": {
    "name": "ipython",
    "version": 3
   },
   "file_extension": ".py",
   "mimetype": "text/x-python",
   "name": "python",
   "nbconvert_exporter": "python",
   "pygments_lexer": "ipython3",
   "version": "3.8.3"
  }
 },
 "nbformat": 4,
 "nbformat_minor": 4
}
